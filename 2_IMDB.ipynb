{
  "cells": [
    {
      "cell_type": "markdown",
      "metadata": {
        "id": "view-in-github",
        "colab_type": "text"
      },
      "source": [
        "<a href=\"https://colab.research.google.com/github/Shradha1304/myrepo/blob/main/2_IMDB.ipynb\" target=\"_parent\"><img src=\"https://colab.research.google.com/assets/colab-badge.svg\" alt=\"Open In Colab\"/></a>"
      ]
    },
    {
      "cell_type": "code",
      "execution_count": 41,
      "metadata": {
        "id": "3pKLfltkaTGI"
      },
      "outputs": [],
      "source": [
        "from tensorflow.keras.datasets import imdb"
      ]
    },
    {
      "cell_type": "code",
      "source": [
        "df=imdb.load_data(num_words=10000)"
      ],
      "metadata": {
        "id": "w7L4VZsW99Zc"
      },
      "execution_count": 35,
      "outputs": []
    },
    {
      "cell_type": "code",
      "source": [
        "print(df)"
      ],
      "metadata": {
        "id": "ZXsvjNZ3-E9c"
      },
      "execution_count": null,
      "outputs": []
    },
    {
      "cell_type": "code",
      "execution_count": 2,
      "metadata": {
        "colab": {
          "base_uri": "https://localhost:8080/"
        },
        "id": "q4kkC5m4dB9g",
        "outputId": "297e0e3e-a51c-474d-a110-4e9a7267a4ee"
      },
      "outputs": [
        {
          "output_type": "stream",
          "name": "stdout",
          "text": [
            "Downloading data from https://storage.googleapis.com/tensorflow/tf-keras-datasets/imdb.npz\n",
            "17464789/17464789 [==============================] - 0s 0us/step\n"
          ]
        }
      ],
      "source": [
        "(train_data, train_label), (test_data, test_label) = imdb.load_data(num_words = 10000)"
      ]
    },
    {
      "cell_type": "code",
      "source": [
        "print(train_data)# ha data bagh vegla vegla ahee..."
      ],
      "metadata": {
        "id": "drKrC7xR9v04"
      },
      "execution_count": null,
      "outputs": []
    },
    {
      "cell_type": "code",
      "source": [
        "print(train_label)"
      ],
      "metadata": {
        "colab": {
          "base_uri": "https://localhost:8080/"
        },
        "id": "6b8WkOPQ_1b-",
        "outputId": "75176ebb-30b8-4363-cc61-54b9522c086d"
      },
      "execution_count": 39,
      "outputs": [
        {
          "output_type": "stream",
          "name": "stdout",
          "text": [
            "[1 0 0 ... 0 1 0]\n"
          ]
        }
      ]
    },
    {
      "cell_type": "markdown",
      "source": [
        "numpy basic library ahe tula asa mathematical operation perform karayla help kartaaa`,dimension manjhe apan vachla naa max index 10000 mahatvach ewords"
      ],
      "metadata": {
        "id": "UkDro44-ATaB"
      }
    },
    {
      "cell_type": "code",
      "execution_count": 42,
      "metadata": {
        "id": "zQSeawyChhL8"
      },
      "outputs": [],
      "source": [
        "import numpy as np\n",
        "\n",
        "def vectorize_sequences(sequences, dimensions = 10000):\n",
        "  results = np.zeros((len(sequences), dimensions))\n",
        "  for i,sequences in enumerate(sequences):\n",
        "    results[i, sequences] = 1\n",
        "  return results\n",
        "#ka\n",
        "# Vectorize testing Data\n",
        "X_test = vectorize_sequences(test_data)\n",
        "x_train = vectorize_sequences(train_data)\n"
      ]
    },
    {
      "cell_type": "code",
      "source": [
        "print(x_train)#but ithe bagh apan encode kela ani te positive negavtive zhale"
      ],
      "metadata": {
        "colab": {
          "base_uri": "https://localhost:8080/"
        },
        "id": "ATN76Hpv91Ot",
        "outputId": "c2a9a761-b53e-4d8f-d0a4-27e9a0eeea73"
      },
      "execution_count": 43,
      "outputs": [
        {
          "output_type": "stream",
          "name": "stdout",
          "text": [
            "[[0. 1. 1. ... 0. 0. 0.]\n",
            " [0. 1. 1. ... 0. 0. 0.]\n",
            " [0. 1. 1. ... 0. 0. 0.]\n",
            " ...\n",
            " [0. 1. 1. ... 0. 0. 0.]\n",
            " [0. 1. 1. ... 0. 0. 0.]\n",
            " [0. 1. 1. ... 0. 0. 0.]]\n"
          ]
        }
      ]
    },
    {
      "cell_type": "code",
      "execution_count": 44,
      "metadata": {
        "id": "bfvRmjVvj8UH"
      },
      "outputs": [],
      "source": [
        "y_train = np.asarray(train_label).astype('float32')\n",
        "y_test = np.asarray(test_label).astype('float32')\n"
      ]
    },
    {
      "cell_type": "code",
      "source": [
        "print(y_train)"
      ],
      "metadata": {
        "colab": {
          "base_uri": "https://localhost:8080/"
        },
        "id": "X3hjQhUsORD5",
        "outputId": "ab6bbb5c-0cb8-4028-9de7-f2f13adf3df9"
      },
      "execution_count": 46,
      "outputs": [
        {
          "output_type": "stream",
          "name": "stdout",
          "text": [
            "[1. 0. 0. ... 0. 1. 0.]\n"
          ]
        }
      ]
    },
    {
      "cell_type": "code",
      "source": [
        "print(y_test)"
      ],
      "metadata": {
        "colab": {
          "base_uri": "https://localhost:8080/"
        },
        "id": "tDCRSeLGOCpE",
        "outputId": "ed777f81-44d5-4eb9-c772-6be57fc32f74"
      },
      "execution_count": 45,
      "outputs": [
        {
          "output_type": "stream",
          "name": "stdout",
          "text": [
            "[0. 1. 1. ... 0. 0. 0.]\n"
          ]
        }
      ]
    },
    {
      "cell_type": "code",
      "execution_count": 47,
      "metadata": {
        "id": "A1fj3RCWpl8g"
      },
      "outputs": [],
      "source": [
        "from tensorflow.keras.models import Sequential\n",
        "from tensorflow.keras.layers import Dense"
      ]
    },
    {
      "cell_type": "code",
      "execution_count": 48,
      "metadata": {
        "id": "9ESdCTH5p3xJ"
      },
      "outputs": [],
      "source": [
        "model = Sequential()\n",
        "model.add(Dense(16, input_shape=(10000, ), activation = \"relu\"))\n",
        "model.add(Dense(16, activation = \"relu\"))\n",
        "model.add(Dense(1, activation = \"sigmoid\"))"
      ]
    },
    {
      "cell_type": "code",
      "execution_count": 49,
      "metadata": {
        "id": "t3u-nNLarXzk"
      },
      "outputs": [],
      "source": [
        "model.compile(optimizer='adam', loss = 'mse', metrics = ['accuracy'])"
      ]
    },
    {
      "cell_type": "code",
      "execution_count": 50,
      "metadata": {
        "colab": {
          "base_uri": "https://localhost:8080/"
        },
        "id": "Z9mUT6JqrlmZ",
        "outputId": "d385f9ef-91a6-4950-d0a6-b10f75379691"
      },
      "outputs": [
        {
          "output_type": "stream",
          "name": "stdout",
          "text": [
            "Model: \"sequential_2\"\n",
            "_________________________________________________________________\n",
            " Layer (type)                Output Shape              Param #   \n",
            "=================================================================\n",
            " dense_6 (Dense)             (None, 16)                160016    \n",
            "                                                                 \n",
            " dense_7 (Dense)             (None, 16)                272       \n",
            "                                                                 \n",
            " dense_8 (Dense)             (None, 1)                 17        \n",
            "                                                                 \n",
            "=================================================================\n",
            "Total params: 160305 (626.19 KB)\n",
            "Trainable params: 160305 (626.19 KB)\n",
            "Non-trainable params: 0 (0.00 Byte)\n",
            "_________________________________________________________________\n"
          ]
        }
      ],
      "source": [
        "model.summary()"
      ]
    },
    {
      "cell_type": "code",
      "execution_count": 51,
      "metadata": {
        "colab": {
          "base_uri": "https://localhost:8080/"
        },
        "id": "4DeosLh5rnaQ",
        "outputId": "fb85c8df-3b0e-4850-d29f-3c4a2a797602"
      },
      "outputs": [
        {
          "output_type": "stream",
          "name": "stdout",
          "text": [
            "Epoch 1/20\n",
            "35/35 [==============================] - 3s 69ms/step - loss: 0.1950 - accuracy: 0.7495 - val_loss: 0.1287 - val_accuracy: 0.8627\n",
            "Epoch 2/20\n",
            "35/35 [==============================] - 1s 37ms/step - loss: 0.0934 - accuracy: 0.9009 - val_loss: 0.0895 - val_accuracy: 0.8887\n",
            "Epoch 3/20\n",
            "35/35 [==============================] - 1s 37ms/step - loss: 0.0606 - accuracy: 0.9342 - val_loss: 0.0824 - val_accuracy: 0.8917\n",
            "Epoch 4/20\n",
            "35/35 [==============================] - 1s 34ms/step - loss: 0.0459 - accuracy: 0.9526 - val_loss: 0.0817 - val_accuracy: 0.8901\n",
            "Epoch 5/20\n",
            "35/35 [==============================] - 1s 34ms/step - loss: 0.0352 - accuracy: 0.9656 - val_loss: 0.0834 - val_accuracy: 0.8863\n",
            "Epoch 6/20\n",
            "35/35 [==============================] - 2s 59ms/step - loss: 0.0271 - accuracy: 0.9764 - val_loss: 0.0848 - val_accuracy: 0.8856\n",
            "Epoch 7/20\n",
            "35/35 [==============================] - 2s 49ms/step - loss: 0.0209 - accuracy: 0.9831 - val_loss: 0.0880 - val_accuracy: 0.8817\n",
            "Epoch 8/20\n",
            "35/35 [==============================] - 1s 37ms/step - loss: 0.0161 - accuracy: 0.9877 - val_loss: 0.0896 - val_accuracy: 0.8805\n",
            "Epoch 9/20\n",
            "35/35 [==============================] - 1s 39ms/step - loss: 0.0123 - accuracy: 0.9915 - val_loss: 0.0923 - val_accuracy: 0.8780\n",
            "Epoch 10/20\n",
            "35/35 [==============================] - 1s 39ms/step - loss: 0.0099 - accuracy: 0.9934 - val_loss: 0.0941 - val_accuracy: 0.8783\n",
            "Epoch 11/20\n",
            "35/35 [==============================] - 1s 35ms/step - loss: 0.0082 - accuracy: 0.9943 - val_loss: 0.0960 - val_accuracy: 0.8749\n",
            "Epoch 12/20\n",
            "35/35 [==============================] - 1s 38ms/step - loss: 0.0070 - accuracy: 0.9949 - val_loss: 0.0973 - val_accuracy: 0.8749\n",
            "Epoch 13/20\n",
            "35/35 [==============================] - 1s 38ms/step - loss: 0.0061 - accuracy: 0.9953 - val_loss: 0.0991 - val_accuracy: 0.8731\n",
            "Epoch 14/20\n",
            "35/35 [==============================] - 1s 35ms/step - loss: 0.0055 - accuracy: 0.9957 - val_loss: 0.1001 - val_accuracy: 0.8735\n",
            "Epoch 15/20\n",
            "35/35 [==============================] - 2s 44ms/step - loss: 0.0051 - accuracy: 0.9959 - val_loss: 0.1010 - val_accuracy: 0.8720\n",
            "Epoch 16/20\n",
            "35/35 [==============================] - 2s 48ms/step - loss: 0.0048 - accuracy: 0.9961 - val_loss: 0.1018 - val_accuracy: 0.8716\n",
            "Epoch 17/20\n",
            "35/35 [==============================] - 1s 42ms/step - loss: 0.0045 - accuracy: 0.9962 - val_loss: 0.1026 - val_accuracy: 0.8712\n",
            "Epoch 18/20\n",
            "35/35 [==============================] - 1s 37ms/step - loss: 0.0043 - accuracy: 0.9963 - val_loss: 0.1030 - val_accuracy: 0.8707\n",
            "Epoch 19/20\n",
            "35/35 [==============================] - 1s 37ms/step - loss: 0.0042 - accuracy: 0.9964 - val_loss: 0.1036 - val_accuracy: 0.8704\n",
            "Epoch 20/20\n",
            "35/35 [==============================] - 1s 36ms/step - loss: 0.0041 - accuracy: 0.9964 - val_loss: 0.1042 - val_accuracy: 0.8703\n"
          ]
        }
      ],
      "source": [
        "history = model.fit(x_train, y_train, validation_split = 0.3, epochs = 20, verbose = 1, batch_size = 512)"
      ]
    },
    {
      "cell_type": "code",
      "source": [
        "model.evaluate(X_test,y_test)"
      ],
      "metadata": {
        "colab": {
          "base_uri": "https://localhost:8080/"
        },
        "id": "r2jeAZtE5aG9",
        "outputId": "38583945-43a5-41be-bdfb-4494e5dd7e1c"
      },
      "execution_count": 52,
      "outputs": [
        {
          "output_type": "stream",
          "name": "stdout",
          "text": [
            "782/782 [==============================] - 4s 5ms/step - loss: 0.1155 - accuracy: 0.8562\n"
          ]
        },
        {
          "output_type": "execute_result",
          "data": {
            "text/plain": [
              "[0.11553272604942322, 0.8561599850654602]"
            ]
          },
          "metadata": {},
          "execution_count": 52
        }
      ]
    },
    {
      "cell_type": "code",
      "source": [],
      "metadata": {
        "id": "cRFVVoYX_ECa"
      },
      "execution_count": null,
      "outputs": []
    },
    {
      "cell_type": "code",
      "source": [
        "y_pred=model.predict(X_test)"
      ],
      "metadata": {
        "colab": {
          "base_uri": "https://localhost:8080/"
        },
        "id": "0-00kM3E64HT",
        "outputId": "a5ceb651-1378-4479-dcc4-0bbb3fd97655"
      },
      "execution_count": 53,
      "outputs": [
        {
          "output_type": "stream",
          "name": "stdout",
          "text": [
            "782/782 [==============================] - 3s 3ms/step\n"
          ]
        }
      ]
    },
    {
      "cell_type": "code",
      "source": [
        "print(y_pred[1],y_test[1])"
      ],
      "metadata": {
        "colab": {
          "base_uri": "https://localhost:8080/"
        },
        "id": "k01T3Y8Q6_iy",
        "outputId": "695912fe-514e-4ca8-cd9c-30668fc70f20"
      },
      "execution_count": 58,
      "outputs": [
        {
          "output_type": "stream",
          "name": "stdout",
          "text": [
            "[1.] 1.0\n"
          ]
        }
      ]
    },
    {
      "cell_type": "code",
      "source": [],
      "metadata": {
        "id": "wEOJXHZq7Df8"
      },
      "execution_count": null,
      "outputs": []
    }
  ],
  "metadata": {
    "colab": {
      "provenance": [],
      "include_colab_link": true
    },
    "kernelspec": {
      "display_name": "Python 3",
      "name": "python3"
    },
    "language_info": {
      "name": "python"
    }
  },
  "nbformat": 4,
  "nbformat_minor": 0
}