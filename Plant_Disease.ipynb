{
  "nbformat": 4,
  "nbformat_minor": 0,
  "metadata": {
    "colab": {
      "provenance": [],
      "authorship_tag": "ABX9TyNMFvx/FKBivE/p1Ga2Mi2g",
      "include_colab_link": true
    },
    "kernelspec": {
      "name": "python3",
      "display_name": "Python 3"
    },
    "language_info": {
      "name": "python"
    }
  },
  "cells": [
    {
      "cell_type": "markdown",
      "metadata": {
        "id": "view-in-github",
        "colab_type": "text"
      },
      "source": [
        "<a href=\"https://colab.research.google.com/github/Shradha1304/myrepo/blob/main/Plant_Disease.ipynb\" target=\"_parent\"><img src=\"https://colab.research.google.com/assets/colab-badge.svg\" alt=\"Open In Colab\"/></a>"
      ]
    },
    {
      "cell_type": "code",
      "execution_count": null,
      "metadata": {
        "id": "lJQhP_SBgmtl"
      },
      "outputs": [],
      "source": [
        "import warnings\n",
        "warnings.filterwarnings(\"ignore\")\n",
        "import tensorflow as tf\n",
        "import matplotlib.pyplot as plt\n",
        "tf.compat.v1.set_random_seed(0)\n",
        "from tensorflow import keras\n",
        "import numpy as np\n",
        "np.random.seed(0)\n",
        "import itertools\n",
        "from keras.preprocessing.image import image_dataset_from_directory\n",
        "from tensorflow.keras.layers.experimental.preprocessing import Rescaling\n",
        "from sklearn.metrics impor"
      ]
    },
    {
      "cell_type": "code",
      "source": [
        "train_gen = image_dataset_from_directory(directory=\"../input/new-plant-diseases-dataset/New Plant Diseases Dataset(Augmented)/New Plant Diseases Dataset(Augmented)/train\",\n",
        "                                         image_size=(256, 256))\n",
        "test_gen = image_dataset_from_directory(directory=\"../input/new-plant-diseases-dataset/New Plant Diseases Dataset(Augmented)/New Plant Diseases Dataset(Augmented)/valid\",\n",
        "                                        image_size=(256, 256))\n",
        "\n",
        "rescale = Rescaling(scale=1.0/255)\n",
        "train_gen = train_gen.map(lambda image,label:(rescale(image),label))\n",
        "test_gen  = test_gen.map(lambda image,label:(rescale(image),label))"
      ],
      "metadata": {
        "id": "n-6kvqLjiR94"
      },
      "execution_count": null,
      "outputs": []
    },
    {
      "cell_type": "code",
      "source": [
        "model = keras.Sequential()\n",
        "\n",
        "model.add(keras.layers.Conv2D(32,(3,3),activation=\"relu\",padding=\"same\",input_shape=(256,256,3)))\n",
        "model.add(keras.layers.Conv2D(32,(3,3),activation=\"relu\",padding=\"same\"))\n",
        "model.add(keras.layers.MaxPooling2D(3,3))\n",
        "\n",
        "model.add(keras.layers.Conv2D(64,(3,3),activation=\"relu\",padding=\"same\"))\n",
        "model.add(keras.layers.Conv2D(64,(3,3),activation=\"relu\",padding=\"same\"))\n",
        "model.add(keras.layers.MaxPooling2D(3,3))\n",
        "\n",
        "model.add(keras.layers.Conv2D(128,(3,3),activation=\"relu\",padding=\"same\"))\n",
        "model.add(keras.layers.Conv2D(128,(3,3),activation=\"relu\",padding=\"same\"))\n",
        "model.add(keras.layers.MaxPooling2D(3,3))\n",
        "\n",
        "model.add(keras.layers.Conv2D(256,(3,3),activation=\"relu\",padding=\"same\"))\n",
        "model.add(keras.layers.Conv2D(256,(3,3),activation=\"relu\",padding=\"same\"))\n",
        "\n",
        "model.add(keras.layers.Conv2D(512,(5,5),activation=\"relu\",padding=\"same\"))\n",
        "model.add(keras.layers.Conv2D(512,(5,5),activation=\"relu\",padding=\"same\"))\n",
        "\n",
        "model.add(keras.layers.Flatten())\n",
        "\n",
        "model.add(keras.layers.Dense(1568,activation=\"relu\"))\n",
        "model.add(keras.layers.Dropout(0.5))\n",
        "\n",
        "model.add(keras.layers.Dense(38,activation=\"softmax\"))\n",
        "\n",
        "opt = keras.optimizers.Adam(learning_rate=0.0001)\n",
        "model.compile(optimizer=opt,loss=\"sparse_categorical_crossentropy\",metrics=['accuracy'])\n",
        "model.summary()"
      ],
      "metadata": {
        "id": "JCsSykh1iZAc"
      },
      "execution_count": null,
      "outputs": []
    },
    {
      "cell_type": "code",
      "source": [
        "ep = 10\n",
        "history = model.fit_generator(train_gen,\n",
        "          validation_data=test_gen,\n",
        "          epochs = ep)"
      ],
      "metadata": {
        "id": "upqhZaQFigWm"
      },
      "execution_count": null,
      "outputs": []
    },
    {
      "cell_type": "code",
      "source": [
        "plt.figure(figsize = (20,5))\n",
        "plt.subplot(1,2,1)\n",
        "plt.title(\"Train and Validation Loss\")\n",
        "plt.xlabel(\"Epoch\")\n",
        "plt.ylabel(\"Loss\")\n",
        "plt.plot(history.history['loss'],label=\"Train Loss\")\n",
        "plt.plot(history.history['val_loss'], label=\"Validation Loss\")\n",
        "plt.xlim(0, 10)\n",
        "plt.ylim(0.0,1.0)\n",
        "plt.legend()"
      ],
      "metadata": {
        "id": "w1K7-Y4TijUw"
      },
      "execution_count": null,
      "outputs": []
    },
    {
      "cell_type": "code",
      "source": [
        "print(\"Train Accuracy  : {:.2f} %\".format(history.history['accuracy'][-1]*100))\n",
        "print(\"Test Accuracy   : {:.2f} %\".format(accuracy_score(labels, predictions) * 100))\n",
        "print(\"Precision Score : {:.2f} %\".format(precision_score(labels, predictions, average='micro') * 100))\n",
        "print(\"Recall Score    : {:.2f} %\".format(recall_score(labels, predictions, average='micro') * 100))"
      ],
      "metadata": {
        "id": "-ozRKas_imY7"
      },
      "execution_count": null,
      "outputs": []
    }
  ]
}