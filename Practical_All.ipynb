{
  "nbformat": 4,
  "nbformat_minor": 0,
  "metadata": {
    "colab": {
      "provenance": [],
      "gpuType": "T4",
      "include_colab_link": true
    },
    "kernelspec": {
      "name": "python3",
      "display_name": "Python 3"
    },
    "language_info": {
      "name": "python"
    },
    "accelerator": "GPU"
  },
  "cells": [
    {
      "cell_type": "markdown",
      "metadata": {
        "id": "view-in-github",
        "colab_type": "text"
      },
      "source": [
        "<a href=\"https://colab.research.google.com/github/Shradha1304/myrepo/blob/main/Practical_All.ipynb\" target=\"_parent\"><img src=\"https://colab.research.google.com/assets/colab-badge.svg\" alt=\"Open In Colab\"/></a>"
      ]
    },
    {
      "cell_type": "code",
      "execution_count": 1,
      "metadata": {
        "colab": {
          "base_uri": "https://localhost:8080/"
        },
        "id": "RE-0CLwZWHP-",
        "outputId": "ce999ba4-bdc0-4c76-d27b-973ba5348d88"
      },
      "outputs": [
        {
          "output_type": "stream",
          "name": "stdout",
          "text": [
            "nvcc: NVIDIA (R) Cuda compiler driver\n",
            "Copyright (c) 2005-2023 NVIDIA Corporation\n",
            "Built on Tue_Aug_15_22:02:13_PDT_2023\n",
            "Cuda compilation tools, release 12.2, V12.2.140\n",
            "Build cuda_12.2.r12.2/compiler.33191640_0\n",
            "Collecting git+https://github.com/afnan47/cuda.git\n",
            "  Cloning https://github.com/afnan47/cuda.git to /tmp/pip-req-build-moeqs6ck\n",
            "  Running command git clone --filter=blob:none --quiet https://github.com/afnan47/cuda.git /tmp/pip-req-build-moeqs6ck\n",
            "  Resolved https://github.com/afnan47/cuda.git to commit aac710a35f52bb78ab34d2e52517237941399eff\n",
            "  Preparing metadata (setup.py) ... \u001b[?25l\u001b[?25hdone\n",
            "Building wheels for collected packages: NVCCPlugin\n",
            "  Building wheel for NVCCPlugin (setup.py) ... \u001b[?25l\u001b[?25hdone\n",
            "  Created wheel for NVCCPlugin: filename=NVCCPlugin-0.0.2-py3-none-any.whl size=4289 sha256=64403fbca50b2ecc8e23b11c6292c7583c5b87ededcb81ba3c97506ab6131921\n",
            "  Stored in directory: /tmp/pip-ephem-wheel-cache-dkhabgmi/wheels/aa/f3/44/e10c1d226ec561d971fcd4b0463f6bff08602afa928a3e7bc7\n",
            "Successfully built NVCCPlugin\n",
            "Installing collected packages: NVCCPlugin\n",
            "Successfully installed NVCCPlugin-0.0.2\n",
            "created output directory at /content/src\n",
            "Out bin /content/result.out\n"
          ]
        }
      ],
      "source": [
        "# Check CUDA version\n",
        "!nvcc --version\n",
        "\n",
        "# Install CUDA package\n",
        "!pip install git+https://github.com/afnan47/cuda.git\n",
        "\n",
        "# Load nvcc plugin\n",
        "%load_ext nvcc_plugin"
      ]
    },
    {
      "cell_type": "code",
      "source": [
        "%%writefile add.cu\n",
        "#include <iostream>\n",
        "#include <cstdlib> // Include <cstdlib> for rand()\n",
        "using namespace std;\n",
        "\n",
        "__global__\n",
        "void add(int* A, int* B, int* C, int size) {\n",
        "    int tid = blockIdx.x * blockDim.x + threadIdx.x;\n",
        "    if (tid < size) {\n",
        "        C[tid] = A[tid] + B[tid];\n",
        "    }\n",
        "}\n",
        "\n",
        "void initialize(int* vector, int size) {\n",
        "    for (int i = 0; i < size; i++) {\n",
        "        vector[i] = rand() % 10;\n",
        "    }\n",
        "}\n",
        "\n",
        "void print(int* vector, int size) {\n",
        "    for (int i = 0; i < size; i++) {\n",
        "        cout << vector[i] << \" \";\n",
        "    }\n",
        "    cout << endl;\n",
        "}\n",
        "\n",
        "int main() {\n",
        "    int N = 4;\n",
        "    int* A, * B, * C;\n",
        "    int vectorSize = N;\n",
        "    size_t vectorBytes = vectorSize * sizeof(int);\n",
        "\n",
        "    // Allocate host memory\n",
        "    A = new int[vectorSize];\n",
        "    B = new int[vectorSize];\n",
        "    C = new int[vectorSize];\n",
        "\n",
        "    // Initialize host arrays\n",
        "    initialize(A, vectorSize);\n",
        "    initialize(B, vectorSize);\n",
        "    cout << \"Vector A: \";\n",
        "    print(A, N);\n",
        "    cout << \"Vector B: \";\n",
        "    print(B, N);\n",
        "\n",
        "    int* X, * Y, * Z;\n",
        "    // Allocate device memory\n",
        "    cudaMalloc(&X, vectorBytes);\n",
        "    cudaMalloc(&Y, vectorBytes);\n",
        "    cudaMalloc(&Z, vectorBytes);\n",
        "\n",
        "    // Check for CUDA memory allocation errors\n",
        "    if (X == nullptr || Y == nullptr || Z == nullptr) {\n",
        "        cerr << \"CUDA memory allocation failed\" << endl;\n",
        "        return 1;\n",
        "    }\n",
        "\n",
        "    // Copy data from host to device\n",
        "    cudaMemcpy(X, A, vectorBytes, cudaMemcpyHostToDevice);\n",
        "    cudaMemcpy(Y, B, vectorBytes, cudaMemcpyHostToDevice);\n",
        "\n",
        "    int threadsPerBlock = 256;\n",
        "    int blocksPerGrid = (N + threadsPerBlock - 1) / threadsPerBlock;\n",
        "\n",
        "    // Launch kernel\n",
        "    add<<<blocksPerGrid, threadsPerBlock>>>(X, Y, Z, N);\n",
        "\n",
        "    // Check for kernel launch errors\n",
        "    cudaError_t kernelLaunchError = cudaGetLastError();\n",
        "    if (kernelLaunchError != cudaSuccess) {\n",
        "        cerr << \"CUDA kernel launch failed: \" << cudaGetErrorString(kernelLaunchError) << endl;\n",
        "        return 1;\n",
        "    }\n",
        "\n",
        "    // Copy result from device to host\n",
        "    cudaMemcpy(C, Z, vectorBytes, cudaMemcpyDeviceToHost);\n",
        "\n",
        "    // Check for CUDA memcpy errors\n",
        "    cudaError_t memcpyError = cudaGetLastError();\n",
        "    if (memcpyError != cudaSuccess) {\n",
        "        cerr << \"CUDA memcpy failed: \" << cudaGetErrorString(memcpyError) << endl;\n",
        "        return 1;\n",
        "    }\n",
        "\n",
        "    cout << \"Addition: \";\n",
        "    print(C, N);\n",
        "\n",
        "    // Free device memory\n",
        "    cudaFree(X);\n",
        "    cudaFree(Y);\n",
        "    cudaFree(Z);\n",
        "\n",
        "    // Free host memory\n",
        "    delete[] A;\n",
        "    delete[] B;\n",
        "    delete[] C;\n",
        "\n",
        "    return 0;\n",
        "}\n"
      ],
      "metadata": {
        "colab": {
          "base_uri": "https://localhost:8080/"
        },
        "id": "sMIjIVSCZ8xt",
        "outputId": "217c483c-dd5f-4f69-abdf-e41cea8da3c7"
      },
      "execution_count": null,
      "outputs": [
        {
          "output_type": "stream",
          "name": "stdout",
          "text": [
            "Writing add.cu\n"
          ]
        }
      ]
    },
    {
      "cell_type": "code",
      "source": [
        "!nvcc add.cu -o add\n",
        "!./add"
      ],
      "metadata": {
        "colab": {
          "base_uri": "https://localhost:8080/"
        },
        "id": "8ECn-hntb93s",
        "outputId": "3d7fe041-17cd-426f-d53f-a246f7769172"
      },
      "execution_count": null,
      "outputs": [
        {
          "output_type": "stream",
          "name": "stdout",
          "text": [
            "Vector A: 3 6 7 5 \n",
            "Vector B: 3 5 6 2 \n",
            "Addition: 6 11 13 7 \n"
          ]
        }
      ]
    },
    {
      "cell_type": "code",
      "source": [
        "%%writefile matrix_mult.cu\n",
        "#include <iostream>\n",
        "#include <cuda.h>\n",
        "using namespace std;\n",
        "\n",
        "#define BLOCK_SIZE 2\n",
        "\n",
        "__global__ void gpuMM(float *A, float *B, float *C, int N) {\n",
        "    int row = blockIdx.y * blockDim.y + threadIdx.y;\n",
        "    int col = blockIdx.x * blockDim.x + threadIdx.x;\n",
        "    float sum = 0.f;\n",
        "    for (int n = 0; n < N; ++n)\n",
        "        sum += A[row * N + n] * B[n * N + col];\n",
        "    C[row * N + col] = sum;\n",
        "}\n",
        "\n",
        "int main(int argc, char *argv[]) {\n",
        "    int N;\n",
        "    float K;\n",
        "\n",
        "    // Perform matrix multiplication C = A*B\n",
        "    // where A, B and C are NxN matrices\n",
        "    // Restricted to matrices where N = K*BLOCK_SIZE;\n",
        "\n",
        "    cout << \"Enter a value for size/2 of matrix: \";\n",
        "    cin >> K;\n",
        "    K = 1;\n",
        "    N = K * BLOCK_SIZE;\n",
        "    cout << \"\\nExecuting Matrix Multiplication\" << endl;\n",
        "    cout << \"Matrix size: \" << N << \"x\" << N << endl;\n",
        "\n",
        "    // Allocate memory on the host\n",
        "    float *hA, *hB, *hC;\n",
        "    hA = new float[N * N];\n",
        "    hB = new float[N * N];\n",
        "    hC = new float[N * N];\n",
        "\n",
        "    // Initialize matrices on the host with random values\n",
        "    srand(time(NULL)); // Seed the random number generator\n",
        "    for (int j = 0; j < N; j++) {\n",
        "        for (int i = 0; i < N; i++) {\n",
        "            hA[j * N + i] = rand() % 10; // Generate random value between 0 and 9\n",
        "            hB[j * N + i] = rand() % 10; // Generate random value between 0 and 9\n",
        "        }\n",
        "    }\n",
        "\n",
        "    // Allocate memory on the device\n",
        "    int size = N * N * sizeof(float);\n",
        "    float *dA, *dB, *dC;\n",
        "    cudaMalloc(&dA, size);\n",
        "    cudaMalloc(&dB, size);\n",
        "    cudaMalloc(&dC, size);\n",
        "\n",
        "    dim3 threadBlock(BLOCK_SIZE, BLOCK_SIZE);\n",
        "    dim3 grid(K, K);\n",
        "\n",
        "    // Copy matrices from the host to device\n",
        "    cudaMemcpy(dA, hA, size, cudaMemcpyHostToDevice);\n",
        "    cudaMemcpy(dB, hB, size, cudaMemcpyHostToDevice);\n",
        "\n",
        "    // Execute the matrix multiplication kernel\n",
        "    gpuMM<<<grid, threadBlock>>>(dA, dB, dC, N);\n",
        "\n",
        "    // Copy the GPU result back to CPU\n",
        "    cudaMemcpy(hC, dC, size, cudaMemcpyDeviceToHost);\n",
        "\n",
        "    // Display the result\n",
        "    cout << \"\\nResultant matrix:\\n\";\n",
        "    for (int row = 0; row < N; row++) {\n",
        "        for (int col = 0; col < N; col++) {\n",
        "            cout << hC[row * N + col] << \" \";\n",
        "        }\n",
        "        cout << endl;\n",
        "    }\n",
        "\n",
        "    // Free device memory\n",
        "    cudaFree(dA);\n",
        "    cudaFree(dB);\n",
        "    cudaFree(dC);\n",
        "\n",
        "    // Free host memory\n",
        "    delete[] hA;\n",
        "    delete[] hB;\n",
        "    delete[] hC;\n",
        "\n",
        "    cout << \"Finished.\" << endl;\n",
        "    return 0;\n",
        "}\n"
      ],
      "metadata": {
        "id": "yNdBThlkchLZ",
        "colab": {
          "base_uri": "https://localhost:8080/"
        },
        "outputId": "c59cb247-a538-4f21-85f1-697d03a6b456"
      },
      "execution_count": null,
      "outputs": [
        {
          "output_type": "stream",
          "name": "stdout",
          "text": [
            "Writing matrix_mult.cu\n"
          ]
        }
      ]
    },
    {
      "cell_type": "code",
      "source": [
        "!nvcc matrix_mult.cu -o matrix_mult\n",
        "!./matrix_mult"
      ],
      "metadata": {
        "colab": {
          "base_uri": "https://localhost:8080/"
        },
        "id": "fG-edfk8hZrl",
        "outputId": "f8e0fcf6-b385-4daf-a175-01283cab0236"
      },
      "execution_count": null,
      "outputs": [
        {
          "output_type": "stream",
          "name": "stdout",
          "text": [
            "Enter a value for size/2 of matrix: 3\n",
            "\n",
            "Executing Matrix Multiplication\n",
            "Matrix size: 2x2\n",
            "\n",
            "Resultant matrix:\n",
            "39 9 \n",
            "47 12 \n",
            "Finished.\n"
          ]
        }
      ]
    },
    {
      "cell_type": "code",
      "source": [
        "%%writefile sum.cu\n",
        "#include <iostream>\n",
        "#include <vector>\n",
        "#include <climits>\n",
        "\n",
        "__global__ void min_reduction_kernel(int* arr, int size, int* result) {\n",
        "    int tid = blockIdx.x * blockDim.x + threadIdx.x;\n",
        "    if (tid < size) {\n",
        "        atomicMin(result, arr[tid]);\n",
        "    }\n",
        "}\n",
        "\n",
        "__global__ void max_reduction_kernel(int* arr, int size, int* result) {\n",
        "    int tid = blockIdx.x * blockDim.x + threadIdx.x;\n",
        "    if (tid < size) {\n",
        "        atomicMax(result, arr[tid]);\n",
        "    }\n",
        "}\n",
        "\n",
        "__global__ void sum_reduction_kernel(int* arr, int size, int* result) {\n",
        "    int tid = blockIdx.x * blockDim.x + threadIdx.x;\n",
        "    if (tid < size) {\n",
        "        atomicAdd(result, arr[tid]);\n",
        "    }\n",
        "}\n",
        "\n",
        "__global__ void average_reduction_kernel(int* arr, int size, int* sum) {\n",
        "    int tid = blockIdx.x * blockDim.x + threadIdx.x;\n",
        "    if (tid < size) {\n",
        "        atomicAdd(sum, arr[tid]);\n",
        "    }\n",
        "}\n",
        "\n",
        "int main() {\n",
        "    std::vector<int> arr = {5, 2, 9, 1, 7, 6, 8, 3, 4};\n",
        "    int size = arr.size();\n",
        "    int* d_arr;\n",
        "    int* d_result;\n",
        "    int result_min = INT_MAX;\n",
        "    int result_max = INT_MIN;\n",
        "    int result_sum = 0;\n",
        "\n",
        "    // Allocate memory on the device\n",
        "    cudaMalloc(&d_arr, size * sizeof(int));\n",
        "    cudaMalloc(&d_result, sizeof(int));\n",
        "\n",
        "    // Copy data from host to device\n",
        "    cudaMemcpy(d_arr, arr.data(), size * sizeof(int), cudaMemcpyHostToDevice);\n",
        "    cudaMemcpy(d_result, &result_min, sizeof(int), cudaMemcpyHostToDevice);\n",
        "\n",
        "    // Perform min reduction\n",
        "    min_reduction_kernel<<<(size + 255) / 256, 256>>>(d_arr, size, d_result);\n",
        "    cudaMemcpy(&result_min, d_result, sizeof(int), cudaMemcpyDeviceToHost);\n",
        "    std::cout << \"Minimum value: \" << result_min << std::endl;\n",
        "\n",
        "    // Perform max reduction\n",
        "    cudaMemcpy(d_result, &result_max, sizeof(int), cudaMemcpyHostToDevice);\n",
        "    max_reduction_kernel<<<(size + 255) / 256, 256>>>(d_arr, size, d_result);\n",
        "    cudaMemcpy(&result_max, d_result, sizeof(int), cudaMemcpyDeviceToHost);\n",
        "    std::cout << \"Maximum value: \" << result_max << std::endl;\n",
        "\n",
        "    // Perform sum reduction\n",
        "    cudaMemcpy(d_result, &result_sum, sizeof(int), cudaMemcpyHostToDevice);\n",
        "    sum_reduction_kernel<<<(size + 255) / 256, 256>>>(d_arr, size, d_result);\n",
        "    cudaMemcpy(&result_sum, d_result, sizeof(int), cudaMemcpyDeviceToHost);\n",
        "    std::cout << \"Sum: \" << result_sum << std::endl;\n",
        "\n",
        "    // Perform average reduction\n",
        "    cudaMemcpy(d_result, &result_sum, sizeof(int), cudaMemcpyHostToDevice);\n",
        "    average_reduction_kernel<<<(size + 255) / 256, 256>>>(d_arr, size, d_result);\n",
        "    cudaMemcpy(&result_sum, d_result, sizeof(int), cudaMemcpyDeviceToHost);\n",
        "    std::cout << \"Average: \" << static_cast<double>(result_sum) / size << std::endl;\n",
        "\n",
        "    // Free device memory\n",
        "    cudaFree(d_arr);\n",
        "    cudaFree(d_result);\n",
        "\n",
        "    return 0;\n",
        "}"
      ],
      "metadata": {
        "colab": {
          "base_uri": "https://localhost:8080/"
        },
        "id": "EckGPNcchebL",
        "outputId": "b18cd2a8-f224-4ced-bdf9-df61b78b2c38"
      },
      "execution_count": null,
      "outputs": [
        {
          "output_type": "stream",
          "name": "stdout",
          "text": [
            "Writing sum.cu\n"
          ]
        }
      ]
    },
    {
      "cell_type": "code",
      "source": [
        "!nvcc sum.cu -o sum\n",
        "!./sum"
      ],
      "metadata": {
        "colab": {
          "base_uri": "https://localhost:8080/"
        },
        "id": "ACHPg_HRi6FK",
        "outputId": "95cafc52-23ec-467c-dbb0-c3c27c44df00"
      },
      "execution_count": null,
      "outputs": [
        {
          "output_type": "stream",
          "name": "stdout",
          "text": [
            "Minimum value: 1\n",
            "Maximum value: 9\n",
            "Sum: 45\n",
            "Average: 10\n"
          ]
        }
      ]
    },
    {
      "cell_type": "code",
      "source": [
        "%%writefile bu.cu\n",
        "#include <iostream>\n",
        "#include <vector>\n",
        "#include <chrono>\n",
        "using namespace std;\n",
        "\n",
        "__device__ void device_swap(int& a, int& b) {\n",
        "    int temp = a;\n",
        "    a = b;\n",
        "    b = temp;\n",
        "}\n",
        "\n",
        "__global__ void kernel_bubble_sort_odd_even(int* arr, int size) {\n",
        "    bool isSorted = false;\n",
        "    while (!isSorted) {\n",
        "        isSorted = true;\n",
        "        int tid = blockIdx.x * blockDim.x + threadIdx.x;\n",
        "        if (tid % 2 == 0 && tid < size - 1) {\n",
        "            if (arr[tid] > arr[tid + 1]) {\n",
        "                device_swap(arr[tid], arr[tid + 1]);\n",
        "                isSorted = false;\n",
        "            }\n",
        "        }\n",
        "        __syncthreads(); // Synchronize threads within block\n",
        "\n",
        "        if (tid % 2 != 0 && tid < size - 1) {\n",
        "            if (arr[tid] > arr[tid + 1]) {\n",
        "                device_swap(arr[tid], arr[tid + 1]);\n",
        "                isSorted = false;\n",
        "            }\n",
        "        }\n",
        "        __syncthreads(); // Synchronize threads within block\n",
        "    }\n",
        "}\n",
        "\n",
        "void bubble_sort_odd_even(vector<int>& arr) {\n",
        "    int size = arr.size();\n",
        "    int* d_arr;\n",
        "    cudaMalloc(&d_arr, size * sizeof(int));\n",
        "    cudaMemcpy(d_arr, arr.data(), size * sizeof(int), cudaMemcpyHostToDevice);\n",
        "\n",
        "    // Calculate grid and block dimensions\n",
        "    int blockSize = 256;\n",
        "    int gridSize = (size + blockSize - 1) / blockSize;\n",
        "\n",
        "    // Perform bubble sort on GPU\n",
        "    kernel_bubble_sort_odd_even<<<gridSize, blockSize>>>(d_arr, size);\n",
        "\n",
        "    // Copy sorted array back to host\n",
        "    cudaMemcpy(arr.data(), d_arr, size * sizeof(int), cudaMemcpyDeviceToHost);\n",
        "    cudaFree(d_arr);\n",
        "}\n",
        "\n",
        "int main() {\n",
        "    vector<int> arr = {5, 2, 9, 1, 7, 6, 8, 3, 4};\n",
        "    double start, end;\n",
        "\n",
        "    // Measure performance of parallel bubble sort using odd-even transposition\n",
        "    start = chrono::duration_cast<chrono::milliseconds>(chrono::system_clock::now().time_since_epoch()).count();\n",
        "    bubble_sort_odd_even(arr);\n",
        "    end = chrono::duration_cast<chrono::milliseconds>(chrono::system_clock::now().time_since_epoch()).count();\n",
        "\n",
        "    cout << \"Parallel bubble sort using odd-even transposition time: \" << end - start << \" milliseconds\" << endl;\n",
        "    return 0;\n",
        "}\n"
      ],
      "metadata": {
        "id": "IUfZ4ERQjBh4",
        "colab": {
          "base_uri": "https://localhost:8080/"
        },
        "outputId": "4c19556e-ce56-4ff5-beaa-3e6d61a21e20"
      },
      "execution_count": null,
      "outputs": [
        {
          "output_type": "stream",
          "name": "stdout",
          "text": [
            "Writing bu.cu\n"
          ]
        }
      ]
    },
    {
      "cell_type": "code",
      "source": [
        "!nvcc bu.cu -o bu\n",
        "!./bu"
      ],
      "metadata": {
        "colab": {
          "base_uri": "https://localhost:8080/"
        },
        "id": "9-KypA9njrMM",
        "outputId": "3d3af4a3-487f-4320-de90-32438832d3ff"
      },
      "execution_count": null,
      "outputs": [
        {
          "output_type": "stream",
          "name": "stdout",
          "text": [
            "Parallel bubble sort using odd-even transposition time: 149 milliseconds\n"
          ]
        }
      ]
    },
    {
      "cell_type": "code",
      "source": [
        "%%writefile ms.cu\n",
        "#include <iostream>\n",
        "#include <vector>\n",
        "#include <chrono>\n",
        "\n",
        "using namespace std;\n",
        "\n",
        "__device__ void merge(int* arr, int l, int m, int r) {\n",
        "    int i, j, k;\n",
        "    int n1 = m - l + 1;\n",
        "    int n2 = r - m;\n",
        "    int* L = new int[n1];\n",
        "    int* R = new int[n2];\n",
        "    for (i = 0; i < n1; i++) {\n",
        "        L[i] = arr[l + i];\n",
        "    }\n",
        "    for (j = 0; j < n2; j++) {\n",
        "        R[j] = arr[m + 1 + j];\n",
        "    }\n",
        "    i = 0;\n",
        "    j = 0;\n",
        "    k = l;\n",
        "    while (i < n1 && j < n2) {\n",
        "        if (L[i] <= R[j]) {\n",
        "            arr[k++] = L[i++];\n",
        "        } else {\n",
        "            arr[k++] = R[j++];\n",
        "        }\n",
        "    }\n",
        "    while (i < n1) {\n",
        "        arr[k++] = L[i++];\n",
        "    }\n",
        "    while (j < n2) {\n",
        "        arr[k++] = R[j++];\n",
        "    }\n",
        "    delete[] L;\n",
        "    delete[] R;\n",
        "}\n",
        "\n",
        "__global__ void kernel_merge_sort(int* arr, int l, int r) {\n",
        "    if (l < r) {\n",
        "        int m = l + (r - l) / 2;\n",
        "        kernel_merge_sort<<<1, 1>>>(arr, l, m);\n",
        "        kernel_merge_sort<<<1, 1>>>(arr, m + 1, r);\n",
        "        merge(arr, l, m, r);\n",
        "    }\n",
        "}\n",
        "\n",
        "void parallel_merge_sort(vector<int>& arr) {\n",
        "    int size = arr.size();\n",
        "    int* d_arr;\n",
        "    cudaMalloc(&d_arr, size * sizeof(int));\n",
        "    cudaMemcpy(d_arr, arr.data(), size * sizeof(int), cudaMemcpyHostToDevice);\n",
        "    kernel_merge_sort<<<1, 1>>>(d_arr, 0, size - 1);\n",
        "    cudaMemcpy(arr.data(), d_arr, size * sizeof(int), cudaMemcpyDeviceToHost);\n",
        "    cudaFree(d_arr);\n",
        "}\n",
        "\n",
        "int main() {\n",
        "    vector<int> arr = {5, 2, 9, 1, 7, 6, 8, 3, 4};\n",
        "    double start, end;\n",
        "\n",
        "    // Measure performance of parallel merge sort\n",
        "    start = chrono::duration_cast<chrono::milliseconds>(chrono::system_clock::now().time_since_epoch()).count();\n",
        "    parallel_merge_sort(arr);\n",
        "    end = chrono::duration_cast<chrono::milliseconds>(chrono::system_clock::now().time_since_epoch()).count();\n",
        "\n",
        "    cout << \"Parallel merge sort time: \" << end - start << \" milliseconds\" << endl;\n",
        "\n",
        "    return 0;\n",
        "}\n"
      ],
      "metadata": {
        "colab": {
          "base_uri": "https://localhost:8080/"
        },
        "id": "JQnVFxl4jz-x",
        "outputId": "612b2e43-f957-4de0-fbba-d877d6f4dc86"
      },
      "execution_count": null,
      "outputs": [
        {
          "output_type": "stream",
          "name": "stdout",
          "text": [
            "Writing ms.cu\n"
          ]
        }
      ]
    },
    {
      "cell_type": "code",
      "source": [
        "!nvcc ms.cu -o ms\n",
        "!./ms"
      ],
      "metadata": {
        "colab": {
          "base_uri": "https://localhost:8080/"
        },
        "id": "1xVIkop7lYLs",
        "outputId": "978bec58-9e29-40be-cc5d-f7a8d50adccf"
      },
      "execution_count": null,
      "outputs": [
        {
          "output_type": "stream",
          "name": "stdout",
          "text": [
            "\u001b[01m\u001b[0m\u001b[01mms.cu(42)\u001b[0m: \u001b[01;31merror\u001b[0m: kernel launch from __device__ or __global__ functions requires separate compilation mode\n",
            "          kernel_merge_sort<<<1, 1>>>(arr, l, m);\n",
            "          ^\n",
            "\n",
            "\u001b[01m\u001b[0m\u001b[01mms.cu(43)\u001b[0m: \u001b[01;31merror\u001b[0m: kernel launch from __device__ or __global__ functions requires separate compilation mode\n",
            "          kernel_merge_sort<<<1, 1>>>(arr, m + 1, r);\n",
            "          ^\n",
            "\n",
            "2 errors detected in the compilation of \"ms.cu\".\n",
            "/bin/bash: line 1: ./ms: No such file or directory\n"
          ]
        }
      ]
    },
    {
      "cell_type": "code",
      "source": [
        "%%writefile bfs.cu\n",
        "#include <iostream>\n",
        "#include <vector>\n",
        "#include <queue>\n",
        "#include <cuda_runtime.h>\n",
        "#include <stdio.h>\n",
        "\n",
        "#define MAX_NODES 1000\n",
        "#define MAX_EDGES_PER_NODE 100\n",
        "\n",
        "__global__ void BFS_kernel(int *adjacency_list, int *visited, int *level, int *queue, int *queue_size, int *new_queue_size) {\n",
        "    int tid = blockIdx.x * blockDim.x + threadIdx.x;\n",
        "\n",
        "    if (tid < *queue_size) {\n",
        "        int node = queue[tid];\n",
        "        int start_edge = node * MAX_EDGES_PER_NODE;\n",
        "        int end_edge = start_edge + MAX_EDGES_PER_NODE;\n",
        "\n",
        "        for (int i = start_edge; i < end_edge; ++i) {\n",
        "            int neighbor = adjacency_list[i];\n",
        "            if (!visited[neighbor]) {\n",
        "                visited[neighbor] = 1;\n",
        "                level[neighbor] = level[node] + 1;\n",
        "                int index = atomicAdd(new_queue_size, 1);\n",
        "                queue[index] = neighbor;\n",
        "            }\n",
        "        }\n",
        "    }\n",
        "}\n",
        "\n",
        "void BFS_parallel(int *adjacency_list, int *visited, int *level, int *queue, int source_node, int num_nodes) {\n",
        "    int *d_adjacency_list, *d_visited, *d_level, *d_queue, *d_queue_size, *d_new_queue_size;\n",
        "    int queue_size = 1;\n",
        "    int new_queue_size = 0;\n",
        "\n",
        "    cudaMalloc(&d_adjacency_list, num_nodes * MAX_EDGES_PER_NODE * sizeof(int));\n",
        "    cudaMalloc(&d_visited, num_nodes * sizeof(int));\n",
        "    cudaMalloc(&d_level, num_nodes * sizeof(int));\n",
        "    cudaMalloc(&d_queue, num_nodes * sizeof(int));\n",
        "    cudaMalloc(&d_queue_size, sizeof(int));\n",
        "    cudaMalloc(&d_new_queue_size, sizeof(int));\n",
        "\n",
        "    cudaMemcpy(d_adjacency_list, adjacency_list, num_nodes * MAX_EDGES_PER_NODE * sizeof(int), cudaMemcpyHostToDevice);\n",
        "    cudaMemcpy(d_visited, visited, num_nodes * sizeof(int), cudaMemcpyHostToDevice);\n",
        "    cudaMemcpy(d_level, level, num_nodes * sizeof(int), cudaMemcpyHostToDevice);\n",
        "\n",
        "    cudaMemcpy(d_queue, &source_node, sizeof(int), cudaMemcpyHostToDevice);\n",
        "    cudaMemcpy(d_queue_size, &queue_size, sizeof(int), cudaMemcpyHostToDevice);\n",
        "\n",
        "    while (queue_size > 0) {\n",
        "        BFS_kernel<<<(queue_size + 255) / 256, 256>>>(d_adjacency_list, d_visited, d_level, d_queue, d_queue_size, d_new_queue_size);\n",
        "        cudaDeviceSynchronize();\n",
        "\n",
        "        cudaMemcpy(&new_queue_size, d_new_queue_size, sizeof(int), cudaMemcpyDeviceToHost);\n",
        "        cudaMemcpy(&queue_size, d_queue_size, sizeof(int), cudaMemcpyDeviceToHost);\n",
        "\n",
        "        cudaMemcpy(d_queue_size, &new_queue_size, sizeof(int), cudaMemcpyHostToDevice);\n",
        "        cudaMemcpy(d_new_queue_size, &new_queue_size, sizeof(int), cudaMemcpyHostToDevice);\n",
        "    }\n",
        "\n",
        "    cudaMemcpy(visited, d_visited, num_nodes * sizeof(int), cudaMemcpyDeviceToHost);\n",
        "    cudaMemcpy(level, d_level, num_nodes * sizeof(int), cudaMemcpyDeviceToHost);\n",
        "\n",
        "    cudaFree(d_adjacency_list);\n",
        "    cudaFree(d_visited);\n",
        "    cudaFree(d_level);\n",
        "    cudaFree(d_queue);\n",
        "    cudaFree(d_queue_size);\n",
        "    cudaFree(d_new_queue_size);\n",
        "}\n",
        "\n",
        "int main() {\n",
        "    int adjacency_list[MAX_NODES * MAX_EDGES_PER_NODE];\n",
        "    int visited[MAX_NODES] = {0};\n",
        "    int level[MAX_NODES] = {0};\n",
        "    int queue[MAX_NODES];\n",
        "    int source_node = 0;\n",
        "    int num_nodes, num_edges;\n",
        "\n",
        "    // Populate adjacency list, num_nodes, and num_edges\n",
        "\n",
        "    // Perform BFS\n",
        "    BFS_parallel(adjacency_list, visited, level, queue, source_node, num_nodes);\n",
        "\n",
        "    // Print results or do further processing\n",
        "\n",
        "    return 0;\n",
        "}\n"
      ],
      "metadata": {
        "colab": {
          "base_uri": "https://localhost:8080/"
        },
        "id": "1ds1Ij9TbjKp",
        "outputId": "c031f1fd-a26b-4909-9292-9950a413cc96"
      },
      "execution_count": 2,
      "outputs": [
        {
          "output_type": "stream",
          "name": "stdout",
          "text": [
            "Writing bfs.cu\n"
          ]
        }
      ]
    },
    {
      "cell_type": "code",
      "source": [
        "!nvcc bfs.cu -o bfs\n",
        "!./bfs,"
      ],
      "metadata": {
        "colab": {
          "base_uri": "https://localhost:8080/"
        },
        "id": "Um67kWy5bpc3",
        "outputId": "5b691ece-6964-4bef-a96b-37172ad168c0"
      },
      "execution_count": null,
      "outputs": [
        {
          "metadata": {
            "tags": null
          },
          "name": "stdout",
          "output_type": "stream",
          "text": [
            "\u001b[01m\u001b[0m\u001b[01mbfs.cu(82)\u001b[0m: \u001b[01;35mwarning\u001b[0m #549-D: variable \u001b[01m\"num_nodes\"\u001b[0m is used before its value is set\n",
            "      BFS_parallel(adjacency_list, visited, level, queue, source_node, num_nodes);\n",
            "                                                                       ^\n",
            "\n",
            "\u001b[01;36m\u001b[0m\u001b[01;36mRemark\u001b[0m: The warnings can be suppressed with \"-diag-suppress <warning-number>\"\n",
            "\n",
            "\u001b[01m\u001b[0m\u001b[01mbfs.cu(82)\u001b[0m: \u001b[01;35mwarning\u001b[0m #549-D: variable \u001b[01m\"num_nodes\"\u001b[0m is used before its value is set\n",
            "      BFS_parallel(adjacency_list, visited, level, queue, source_node, num_nodes);\n",
            "                                                                       ^\n",
            "\n",
            "\u001b[01;36m\u001b[0m\u001b[01;36mRemark\u001b[0m: The warnings can be suppressed with \"-diag-suppress <warning-number>\"\n",
            "\n",
            "\u001b[01m\u001b[0m\u001b[01mbfs.cu(77)\u001b[0m: \u001b[01;35mwarning\u001b[0m #177-D: variable \u001b[01m\"num_edges\"\u001b[0m was declared but never referenced\n",
            "      int num_nodes, num_edges;\n",
            "                     ^\n",
            "\n"
          ]
        }
      ]
    },
    {
      "cell_type": "code",
      "source": [
        "%%writefile bfs.cu\n",
        "#include <iostream>\n",
        "#include <vector>\n",
        "#include <queue>\n",
        "#include <cuda_runtime.h>\n",
        "\n",
        "using namespace std;\n",
        "\n",
        "__global__ void bfs_kernel(int* adj_list, bool* visited, int* queue, int* queue_size, int num_vertices) {\n",
        "    int tid = blockIdx.x * blockDim.x + threadIdx.x;\n",
        "    if (tid < *queue_size) {\n",
        "        int curr_vertex = queue[tid];\n",
        "        for (int i = adj_list[curr_vertex]; i < adj_list[curr_vertex + 1]; ++i) {\n",
        "            int neighbour = adj_list[num_vertices + i];\n",
        "            if (!visited[neighbour]) {\n",
        "                visited[neighbour] = true;\n",
        "                int index = atomicAdd(queue_size, 1);\n",
        "                queue[index] = neighbour;\n",
        "            }\n",
        "        }\n",
        "    }\n",
        "}\n",
        "\n",
        "int main() {\n",
        "    int num_vertices, num_edges, source;\n",
        "    cin >> num_vertices >> num_edges >> source;\n",
        "\n",
        "    // Allocate memory for adjacency list and visited array on host\n",
        "    vector<int> h_adj_list(num_vertices + 2); // Prefix sum for indices\n",
        "    vector<int> h_edges(num_edges);\n",
        "    vector<bool> h_visited(num_vertices + 1, false);\n",
        "\n",
        "    // Input edges and build adjacency list\n",
        "    for (int i = 0; i < num_edges; ++i) {\n",
        "        int u, v;\n",
        "        cin >> u >> v;\n",
        "        h_edges[i] = v;\n",
        "        ++h_adj_list[u + 1];\n",
        "    }\n",
        "\n",
        "    // Calculate prefix sum for indices\n",
        "    for (int i = 2; i <= num_vertices + 1; ++i) {\n",
        "        h_adj_list[i] += h_adj_list[i - 1];\n",
        "    }\n",
        "\n",
        "    // Copy adjacency list to GPU\n",
        "    int* d_adj_list;\n",
        "    cudaMalloc(&d_adj_list, (num_vertices + 2) * sizeof(int));\n",
        "    cudaMemcpy(d_adj_list, h_adj_list.data(), (num_vertices + 2) * sizeof(int), cudaMemcpyHostToDevice);\n",
        "\n",
        "    // Copy edges to GPU\n",
        "    int* d_edges;\n",
        "    cudaMalloc(&d_edges, num_edges * sizeof(int));\n",
        "    cudaMemcpy(d_edges, h_edges.data(), num_edges * sizeof(int), cudaMemcpyHostToDevice);\n",
        "\n",
        "    // Allocate memory for visited array and queue on GPU\n",
        "    bool* d_visited;\n",
        "    cudaMalloc(&d_visited, (num_vertices + 1) * sizeof(bool));\n",
        "    cudaMemcpy(d_visited, h_visited.data(), (num_vertices + 1) * sizeof(bool), cudaMemcpyHostToDevice);\n",
        "\n",
        "    int* d_queue;\n",
        "    cudaMalloc(&d_queue, (num_vertices + 1) * sizeof(int));\n",
        "\n",
        "    // Initialize queue with source vertex\n",
        "    cudaMemcpy(d_queue, &source, sizeof(int), cudaMemcpyHostToDevice);\n",
        "    int queue_size = 1;\n",
        "    int* d_queue_size;\n",
        "    cudaMalloc(&d_queue_size, sizeof(int));\n",
        "    cudaMemcpy(d_queue_size, &queue_size, sizeof(int), cudaMemcpyHostToDevice);\n",
        "\n",
        "    // Perform BFS on GPU\n",
        "    while (queue_size > 0) {\n",
        "        bfs_kernel<<<(queue_size + 255) / 256, 256>>>(d_adj_list, d_visited, d_queue, d_queue_size, num_vertices);\n",
        "        cudaDeviceSynchronize();\n",
        "        cudaMemcpy(&queue_size, d_queue_size, sizeof(int), cudaMemcpyDeviceToHost);\n",
        "    }\n",
        "\n",
        "    // Copy visited array from GPU to host and print visited vertices\n",
        "    cudaMemcpy(h_visited.data(), d_visited, (num_vertices + 1) * sizeof(bool), cudaMemcpyDeviceToHost);\n",
        "    cout << \"Visited vertices: \";\n",
        "    for (int i = 1; i <= num_vertices; ++i) {\n",
        "        if (h_visited[i]) {\n",
        "            cout << i << \" \";\n",
        "        }\n",
        "    }\n",
        "    cout << endl;\n",
        "\n",
        "    // Free device memory\n",
        "    cudaFree(d_adj_list);\n",
        "    cudaFree(d_edges);\n",
        "    cudaFree(d_visited);\n",
        "    cudaFree(d_queue);\n",
        "    cudaFree(d_queue_size);\n",
        "\n",
        "    return 0;\n",
        "}\n"
      ],
      "metadata": {
        "id": "FPjoVpfIldsS"
      },
      "execution_count": null,
      "outputs": []
    },
    {
      "cell_type": "code",
      "source": [
        "!nvcc bfs.cu -o bfs\n",
        "!./bfs"
      ],
      "metadata": {
        "colab": {
          "base_uri": "https://localhost:8080/"
        },
        "id": "apSqpwLSoZfU",
        "outputId": "af8a143d-45e3-4322-a34b-6d91a25137d4"
      },
      "execution_count": null,
      "outputs": [
        {
          "output_type": "stream",
          "name": "stdout",
          "text": [
            "\u001b[01m\u001b[0m\u001b[01mbfs.cu(58)\u001b[0m: \u001b[01;31merror\u001b[0m: argument of type \"void\" is incompatible with parameter of type \"const void *\"\n",
            "      cudaMemcpy(d_visited, h_visited.data(), (num_vertices + 1) * sizeof(bool), cudaMemcpyHostToDevice);\n",
            "                            ^\n",
            "\n",
            "\u001b[01m\u001b[0m\u001b[01mbfs.cu(78)\u001b[0m: \u001b[01;31merror\u001b[0m: argument of type \"void\" is incompatible with parameter of type \"void *\"\n",
            "      cudaMemcpy(h_visited.data(), d_visited, (num_vertices + 1) * sizeof(bool), cudaMemcpyDeviceToHost);\n",
            "                 ^\n",
            "\n",
            "2 errors detected in the compilation of \"bfs.cu\".\n",
            "/bin/bash: line 1: ./bfs: No such file or directory\n"
          ]
        }
      ]
    },
    {
      "cell_type": "code",
      "source": [
        "%%writefile .cu\n",
        "#include <iostream>\n",
        "#include <omp.h>\n",
        "\n",
        "void bubbleSort(int arr[], int n, int num_procs) {\n",
        "    bool swapped = false;\n",
        "    for (int i = 0; i < n - 1; ++i) {\n",
        "        swapped = false;\n",
        "        #pragma omp parallel for shared(arr, swapped) num_threads(num_procs)\n",
        "        for (int j = 0; j < n - i - 1; ++j) {\n",
        "            if (arr[j] > arr[j + 1]) {\n",
        "                std::swap(arr[j], arr[j + 1]);\n",
        "                swapped = true;\n",
        "                #pragma omp critical\n",
        "                {\n",
        "                    std::cout << \"Processor \" << omp_get_thread_num() << \" swapped elements at indices \" << j << \" and \" << j + 1 << std::endl;\n",
        "                }\n",
        "            }\n",
        "        }\n",
        "        // Ensure synchronization between processors\n",
        "        #pragma omp barrier\n",
        "        if (!swapped) {\n",
        "            break;\n",
        "        }\n",
        "    }\n",
        "}\n",
        "\n",
        "void sequentialBubbleSort(int arr[], int n) {\n",
        "    bool swapped = false;\n",
        "    for (int i = 0; i < n - 1; ++i) {\n",
        "        swapped = false;\n",
        "        for (int j = 0; j < n - i - 1; ++j) {\n",
        "            if (arr[j] > arr[j + 1]) {\n",
        "                std::swap(arr[j], arr[j + 1]);\n",
        "                swapped = true;\n",
        "            }\n",
        "        }\n",
        "        if (!swapped) {\n",
        "            break;\n",
        "        }\n",
        "    }\n",
        "\n",
        "}    // Sequential bubble sort\n",
        "\n",
        "\n",
        "int main() {\n",
        "    double start_time, end_time;\n",
        "    int num_procs;\n",
        "    std::cout << \"Enter the number of processors: \";\n",
        "    std::cin >> num_procs;\n",
        "\n",
        "    int arr[] = {64, 34, 25, 12, 22, 11, 90};\n",
        "    int n = sizeof(arr) / sizeof(arr[0]);\n",
        "    start_time = omp_get_wtime();\n",
        "    bubbleSort(arr, n, num_procs);\n",
        "    end_time = omp_get_wtime();\n",
        "    std::cout << \"Parallel Bubble Sort took : \" << end_time - start_time << \" seconds.\\n\";\n",
        "\n",
        "    int sequential_arr[n]={64, 34, 25, 12, 22, 11, 90};\n",
        "    start_time = omp_get_wtime();\n",
        "    sequentialBubbleSort(sequential_arr, n);\n",
        "    end_time = omp_get_wtime();\n",
        "    std::cout << \"sBubble Sort took : \" << end_time - start_time << \" seconds.\\n\";\n",
        "\n",
        "    std::cout << \"Sorted array: \\n\";\n",
        "    for (int i = 0; i < n; ++i) {\n",
        "        std::cout << arr[i] << \" \";\n",
        "    }\n",
        "    std::cout << std::endl;\n",
        "\n",
        "    return 0;\n",
        "}"
      ],
      "metadata": {
        "id": "bvXIgvzRoj_y"
      },
      "execution_count": null,
      "outputs": []
    }
  ]
}