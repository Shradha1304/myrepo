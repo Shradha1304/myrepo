{
  "nbformat": 4,
  "nbformat_minor": 0,
  "metadata": {
    "colab": {
      "provenance": [],
      "authorship_tag": "ABX9TyPIVDltJeFHMRLMZEYQUZYl",
      "include_colab_link": true
    },
    "kernelspec": {
      "name": "python3",
      "display_name": "Python 3"
    },
    "language_info": {
      "name": "python"
    }
  },
  "cells": [
    {
      "cell_type": "markdown",
      "metadata": {
        "id": "view-in-github",
        "colab_type": "text"
      },
      "source": [
        "<a href=\"https://colab.research.google.com/github/Shradha1304/myrepo/blob/main/bfs_dfs_cuda.ipynb\" target=\"_parent\"><img src=\"https://colab.research.google.com/assets/colab-badge.svg\" alt=\"Open In Colab\"/></a>"
      ]
    },
    {
      "cell_type": "code",
      "execution_count": 1,
      "metadata": {
        "colab": {
          "base_uri": "https://localhost:8080/"
        },
        "id": "OZh6v8ttzDW-",
        "outputId": "3e508258-51a2-4319-bde7-7c1122b39a6e"
      },
      "outputs": [
        {
          "output_type": "stream",
          "name": "stdout",
          "text": [
            "nvcc: NVIDIA (R) Cuda compiler driver\n",
            "Copyright (c) 2005-2023 NVIDIA Corporation\n",
            "Built on Tue_Aug_15_22:02:13_PDT_2023\n",
            "Cuda compilation tools, release 12.2, V12.2.140\n",
            "Build cuda_12.2.r12.2/compiler.33191640_0\n",
            "Collecting git+https://github.com/afnan47/cuda.git\n",
            "  Cloning https://github.com/afnan47/cuda.git to /tmp/pip-req-build-oe4njx5o\n",
            "  Running command git clone --filter=blob:none --quiet https://github.com/afnan47/cuda.git /tmp/pip-req-build-oe4njx5o\n",
            "  Resolved https://github.com/afnan47/cuda.git to commit aac710a35f52bb78ab34d2e52517237941399eff\n",
            "  Preparing metadata (setup.py) ... \u001b[?25l\u001b[?25hdone\n",
            "Building wheels for collected packages: NVCCPlugin\n",
            "  Building wheel for NVCCPlugin (setup.py) ... \u001b[?25l\u001b[?25hdone\n",
            "  Created wheel for NVCCPlugin: filename=NVCCPlugin-0.0.2-py3-none-any.whl size=4289 sha256=dbff4c4f9014a90531d006e7ced76fe31a89aae11b285bbc25b90b0be1fd76c9\n",
            "  Stored in directory: /tmp/pip-ephem-wheel-cache-db14ht2f/wheels/aa/f3/44/e10c1d226ec561d971fcd4b0463f6bff08602afa928a3e7bc7\n",
            "Successfully built NVCCPlugin\n",
            "Installing collected packages: NVCCPlugin\n",
            "Successfully installed NVCCPlugin-0.0.2\n",
            "created output directory at /content/src\n",
            "Out bin /content/result.out\n"
          ]
        }
      ],
      "source": [
        "# Check CUDA version\n",
        "!nvcc --version\n",
        "# Install CUDA package\n",
        "!pip install git+https://github.com/afnan47/cuda.git\n",
        "# Load nvcc plugin\n",
        "%load_ext nvcc_plugin"
      ]
    },
    {
      "cell_type": "code",
      "source": [
        "%%writefile breadthfirst.cu\n",
        "#include <iostream>\n",
        "#include <queue>\n",
        "#include <vector>\n",
        "#include <omp.h>\n",
        "using namespace std;\n",
        "int main() {\n",
        "int num_vertices, num_edges, source;\n",
        "cout << \"Enter number of vertices, edges, and source node: \";\n",
        "cin >> num_vertices >> num_edges >> source;\n",
        "// Input validation\n",
        "if (source < 1 || source > num_vertices) {\n",
        "cout << \"Invalid source node!\" << endl;\n",
        "return 1;\n",
        "}\n",
        "vector<vector<int>> adj_list(num_vertices + 1);\n",
        "for (int i = 0; i < num_edges; i++) {\n",
        "int u, v;\n",
        "cin >> u >> v;\n",
        "// Input validation for edges\n",
        "if (u < 1 || u > num_vertices || v < 1 || v > num_vertices) {\n",
        "cout << \"Invalid edge: \" << u << \" \" << v << endl;\n",
        "return 1;\n",
        "}\n",
        "adj_list[u].push_back(v);\n",
        "adj_list[v].push_back(u);\n",
        "}\n",
        "queue<int> q;\n",
        "vector<bool> visited(num_vertices + 1, false);\n",
        "q.push(source);\n",
        "visited[source] = true;\n",
        "while (!q.empty()) {\n",
        "int curr_vertex = q.front();\n",
        "q.pop();\n",
        "cout << curr_vertex << \" \";\n",
        "// Sequential loop for neighbors\n",
        "for (int i = 0; i < adj_list[curr_vertex].size(); i++) {\n",
        "int neighbour = adj_list[curr_vertex][i];\n",
        "if (!visited[neighbour]) {\n",
        "visited[neighbour] = true;\n",
        "q.push(neighbour);\n",
        "}\n",
        "}\n",
        "}\n",
        "cout << endl;\n",
        "return 0;\n",
        "}\n"
      ],
      "metadata": {
        "colab": {
          "base_uri": "https://localhost:8080/"
        },
        "id": "O-tutJ8nzD5T",
        "outputId": "49dc29d9-9a10-4499-d1c7-7a3954a0cabe"
      },
      "execution_count": 2,
      "outputs": [
        {
          "output_type": "stream",
          "name": "stdout",
          "text": [
            "Writing breadthfirst.cu\n"
          ]
        }
      ]
    },
    {
      "cell_type": "code",
      "source": [
        "!nvcc breadthfirst.cu -o breadthfirst\n",
        "!./breadthfirst"
      ],
      "metadata": {
        "colab": {
          "base_uri": "https://localhost:8080/"
        },
        "id": "VryIIO9TzMm6",
        "outputId": "3c995f26-487f-4fc3-96c3-9063c587496e"
      },
      "execution_count": 3,
      "outputs": [
        {
          "output_type": "stream",
          "name": "stdout",
          "text": [
            "Enter number of vertices, edges, and source node: 6 5 3\n",
            "2 3\n",
            "3 5\n",
            "4 6\n",
            "5 2\n",
            "4 3\n",
            "3 2 5 4 6 \n"
          ]
        }
      ]
    },
    {
      "cell_type": "code",
      "source": [
        "%%writefile depthfirst.cu\n",
        "#include <iostream>\n",
        "#include <vector>\n",
        "using namespace std;\n",
        "const int MAXN = 1e5;\n",
        "vector<int> adj[MAXN+5]; // adjacency list\n",
        "bool visited[MAXN+5]; // mark visited nodes\n",
        "void dfs(int node) {\n",
        "visited[node] = true;\n",
        "cout << node << \" \"; // Print the visited node here\n",
        "for (int i = 0; i < adj[node].size(); i++) {\n",
        "int next_node = adj[node][i];\n",
        "if (!visited[next_node]) {\n",
        "dfs(next_node);\n",
        "}\n",
        "}\n",
        "}\n",
        "int main() {\n",
        "cout << \"Please enter nodes and edges: \";\n",
        "int n, m; // number of nodes and edges\n",
        "cin >> n >> m;\n",
        "for (int i = 1; i <= m; i++) {\n",
        "int u, v; // edge between u and v\n",
        "cin >> u >> v;\n",
        "adj[u].push_back(v);\n",
        "adj[v].push_back(u);\n",
        "}\n",
        "int start_node; // start node of DFS\n",
        "cout << \"Enter the start node for DFS: \";\n",
        "cin >> start_node;\n",
        "dfs(start_node);\n",
        "cout << endl; // Print a newline after DFS traversal\n",
        "return 0;\n",
        "}\n"
      ],
      "metadata": {
        "colab": {
          "base_uri": "https://localhost:8080/"
        },
        "id": "OoZfBPUTzSOO",
        "outputId": "c84d72a6-1ea1-4cd6-a597-3899afe7d665"
      },
      "execution_count": 4,
      "outputs": [
        {
          "output_type": "stream",
          "name": "stdout",
          "text": [
            "Writing depthfirst.cu\n"
          ]
        }
      ]
    },
    {
      "cell_type": "code",
      "source": [
        "!nvcc depthfirst.cu -o depthfirst\n",
        "!./depthfirst"
      ],
      "metadata": {
        "id": "3boZ8zf0zpaw"
      },
      "execution_count": null,
      "outputs": []
    }
  ]
}