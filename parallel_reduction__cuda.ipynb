{
  "nbformat": 4,
  "nbformat_minor": 0,
  "metadata": {
    "colab": {
      "provenance": [],
      "authorship_tag": "ABX9TyM8uDGE7bYaUy7moHf0VhMx",
      "include_colab_link": true
    },
    "kernelspec": {
      "name": "python3",
      "display_name": "Python 3"
    },
    "language_info": {
      "name": "python"
    }
  },
  "cells": [
    {
      "cell_type": "markdown",
      "metadata": {
        "id": "view-in-github",
        "colab_type": "text"
      },
      "source": [
        "<a href=\"https://colab.research.google.com/github/Shradha1304/myrepo/blob/main/parallel_reduction__cuda.ipynb\" target=\"_parent\"><img src=\"https://colab.research.google.com/assets/colab-badge.svg\" alt=\"Open In Colab\"/></a>"
      ]
    },
    {
      "cell_type": "code",
      "execution_count": null,
      "metadata": {
        "id": "9GSJdzen1fUq"
      },
      "outputs": [],
      "source": [
        "# Check CUDA version\n",
        "!nvcc --version\n",
        "# Install CUDA package\n",
        "!pip install git+https://github.com/afnan47/cuda.git\n",
        "# Load nvcc plugin\n",
        "%load_ext nvcc_plugin"
      ]
    },
    {
      "cell_type": "code",
      "source": [
        "%%writefile sum.cu\n",
        "#include <iostream>\n",
        "#include <vector>\n",
        "#include <climits>\n",
        "__global__ void min_reduction_kernel(int* arr, int size, int* result) {\n",
        "int tid = blockIdx.x * blockDim.x + threadIdx.x;\n",
        "if (tid < size) {\n",
        "atomicMin(result, arr[tid]);\n",
        "}\n",
        "}\n",
        "__global__ void max_reduction_kernel(int* arr, int size, int* result) {\n",
        "int tid = blockIdx.x * blockDim.x + threadIdx.x;\n",
        "if (tid < size) {\n",
        "atomicMax(result, arr[tid]);\n",
        "}\n",
        "}\n",
        "__global__ void sum_reduction_kernel(int* arr, int size, int* result) {\n",
        "int tid = blockIdx.x * blockDim.x + threadIdx.x;\n",
        "if (tid < size) {\n",
        "atomicAdd(result, arr[tid]);\n",
        "}\n",
        "}\n",
        "__global__ void average_reduction_kernel(int* arr, int size, int* sum) {\n",
        "int tid = blockIdx.x * blockDim.x + threadIdx.x;\n",
        "if (tid < size) {\n",
        "atomicAdd(sum, arr[tid]);\n",
        "}\n",
        "}\n",
        "int main() {\n",
        "int size;\n",
        "std::cout << \"Enter the size of the array: \";\n",
        "std::cin >> size;\n",
        "std::vector<int> arr(size);\n",
        "for (int i = 0; i < size; ++i) {\n",
        "std::cout << \"Enter element \" << i << \": \";\n",
        "std::cin >> arr[i];\n",
        "}\n",
        "int* d_arr;\n",
        "int* d_result;\n",
        "int result_min = INT_MAX;\n",
        "int result_max = INT_MIN;\n",
        "int result_sum = 0;\n",
        "// Allocate memory on the device\n",
        "cudaMalloc(&d_arr, size * sizeof(int));\n",
        "cudaMalloc(&d_result, sizeof(int));\n",
        "// Copy data from host to device\n",
        "cudaMemcpy(d_arr, arr.data(), size * sizeof(int),\n",
        "cudaMemcpyHostToDevice);\n",
        "cudaMemcpy(d_result, &result_min, sizeof(int), cudaMemcpyHostToDevice);\n",
        "// Perform min reduction\n",
        "min_reduction_kernel<<<(size + 255) / 256, 256>>>(d_arr, size,\n",
        "d_result);\n",
        "cudaMemcpy(&result_min, d_result, sizeof(int), cudaMemcpyDeviceToHost);\n",
        "std::cout << \"Minimum value: \" << result_min << std::endl;\n",
        "// Perform max reduction\n",
        "cudaMemcpy(d_result, &result_max, sizeof(int), cudaMemcpyHostToDevice);\n",
        "max_reduction_kernel<<<(size + 255) / 256, 256>>>(d_arr, size,\n",
        "d_result);\n",
        "cudaMemcpy(&result_max, d_result, sizeof(int), cudaMemcpyDeviceToHost);\n",
        "std::cout << \"Maximum value: \" << result_max << std::endl;\n",
        "// Perform sum reduction\n",
        "cudaMemcpy(d_result, &result_sum, sizeof(int), cudaMemcpyHostToDevice);\n",
        "sum_reduction_kernel<<<(size + 255) / 256, 256>>>(d_arr, size,\n",
        "d_result);\n",
        "cudaMemcpy(&result_sum, d_result, sizeof(int), cudaMemcpyDeviceToHost);\n",
        "std::cout << \"Sum: \" << result_sum << std::endl;\n",
        "// Perform average reduction on CPU side\n",
        "double average = static_cast<double>(result_sum) / size;\n",
        "std::cout << \"Average: \" << average << std::endl;\n",
        "// Free device memory\n",
        "cudaFree(d_arr);\n",
        "cudaFree(d_result);\n",
        "return 0;\n",
        "}\n"
      ],
      "metadata": {
        "id": "Eb8tPm331hpy"
      },
      "execution_count": null,
      "outputs": []
    },
    {
      "cell_type": "code",
      "source": [
        "!nvcc sum.cu -o sum\n",
        "!./sum\n"
      ],
      "metadata": {
        "id": "hzQEkaYE1pil"
      },
      "execution_count": null,
      "outputs": []
    }
  ]
}