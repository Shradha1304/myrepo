{
  "nbformat": 4,
  "nbformat_minor": 0,
  "metadata": {
    "colab": {
      "provenance": [],
      "authorship_tag": "ABX9TyPROllvSvwwzqNJTQviUZtC",
      "include_colab_link": true
    },
    "kernelspec": {
      "name": "python3",
      "display_name": "Python 3"
    },
    "language_info": {
      "name": "python"
    }
  },
  "cells": [
    {
      "cell_type": "markdown",
      "metadata": {
        "id": "view-in-github",
        "colab_type": "text"
      },
      "source": [
        "<a href=\"https://colab.research.google.com/github/Shradha1304/myrepo/blob/main/vector_cuda.ipynb\" target=\"_parent\"><img src=\"https://colab.research.google.com/assets/colab-badge.svg\" alt=\"Open In Colab\"/></a>"
      ]
    },
    {
      "cell_type": "code",
      "execution_count": null,
      "metadata": {
        "id": "Zus9mEUS2Csj"
      },
      "outputs": [],
      "source": [
        "# Check CUDA version\n",
        "!nvcc --version\n",
        "# Install CUDA package\n",
        "!pip install git+https://github.com/afnan47/cuda.git\n",
        "# Load nvcc plugin\n",
        "%load_ext nvcc_plugin"
      ]
    },
    {
      "cell_type": "code",
      "source": [
        "%%writefile add.cu\n",
        "#include <iostream>\n",
        "#include <cstdlib> // Include <cstdlib> for rand()\n",
        "using namespace std;\n",
        "__global__\n",
        "void add(int* A, int* B, int* C, int size) {\n",
        "int tid = blockIdx.x * blockDim.x + threadIdx.x;\n",
        "if (tid < size) {\n",
        "C[tid] = A[tid] + B[tid];\n",
        "}\n",
        "}\n",
        "void print(int* vector, int size) {\n",
        "for (int i = 0; i < size; i++) {\n",
        "cout << vector[i] << \" \";\n",
        "}\n",
        "cout << endl;\n",
        "}\n",
        "int main() {\n",
        "int N;\n",
        "cout << \"Enter the size of the vectors: \";\n",
        "cin >> N;\n",
        "int* A, * B, * C;\n",
        "int vectorSize = N;\n",
        "size_t vectorBytes = vectorSize * sizeof(int);\n",
        "// Allocate host memory\n",
        "A = new int[vectorSize];\n",
        "B = new int[vectorSize];\n",
        "C = new int[vectorSize];\n",
        "// Initialize host arrays\n",
        "cout << \"Enter elements of vector A:\" << endl;\n",
        "for (int i = 0; i < N; i++) {\n",
        "cin >> A[i];\n",
        "}\n",
        "cout << \"Enter elements of vector B:\" << endl;\n",
        "for (int i = 0; i < N; i++) {\n",
        "cin >> B[i];\n",
        "}\n",
        "cout << \"Vector A: \";\n",
        "print(A, N);\n",
        "cout << \"Vector B: \";\n",
        "print(B, N);\n",
        "int* X, * Y, * Z;\n",
        "// Allocate device memory\n",
        "cudaMalloc(&X, vectorBytes);\n",
        "cudaMalloc(&Y, vectorBytes);\n",
        "cudaMalloc(&Z, vectorBytes);\n",
        "// Check for CUDA memory allocation errors\n",
        "if (X == nullptr || Y == nullptr || Z == nullptr) {\n",
        "cerr << \"CUDA memory allocation failed\" << endl;\n",
        "return 1;\n",
        "}\n",
        "// Copy data from host to device\n",
        "cudaMemcpy(X, A, vectorBytes, cudaMemcpyHostToDevice);\n",
        "cudaMemcpy(Y, B, vectorBytes, cudaMemcpyHostToDevice);\n",
        "int threadsPerBlock = 256;\n",
        "int blocksPerGrid = (N + threadsPerBlock - 1) / threadsPerBlock;\n",
        "// Launch kernel\n",
        "add<<<blocksPerGrid, threadsPerBlock>>>(X, Y, Z, N);\n",
        "// Check for kernel launch errors\n",
        "cudaError_t kernelLaunchError = cudaGetLastError();\n",
        "if (kernelLaunchError != cudaSuccess) {\n",
        "cerr << \"CUDA kernel launch failed: \" <<\n",
        "cudaGetErrorString(kernelLaunchError) << endl;\n",
        "return 1;\n",
        "}\n",
        "// Copy result from device to host\n",
        "cudaMemcpy(C, Z, vectorBytes, cudaMemcpyDeviceToHost);\n",
        "// Check for CUDA memcpy errors\n",
        "cudaError_t memcpyError = cudaGetLastError();\n",
        "if (memcpyError != cudaSuccess) {\n",
        "cerr << \"CUDA memcpy failed: \" << cudaGetErrorString(memcpyError) <<\n",
        "endl;\n",
        "return 1;\n",
        "}\n",
        "cout << \"Addition: \";\n",
        "print(C, N);\n",
        "// Free device memory\n",
        "cudaFree(X);\n",
        "cudaFree(Y);\n",
        "cudaFree(Z);\n",
        "// Free host memory\n",
        "delete[] A;\n",
        "delete[] B;\n",
        "delete[] C;\n",
        "return 0;\n",
        "}\n"
      ],
      "metadata": {
        "id": "oz3Mg9es2DM7"
      },
      "execution_count": null,
      "outputs": []
    },
    {
      "cell_type": "code",
      "source": [
        "!nvcc add.cu -o add\n",
        "!./add\n"
      ],
      "metadata": {
        "id": "eVIxiLNt2LhE"
      },
      "execution_count": null,
      "outputs": []
    },
    {
      "cell_type": "code",
      "source": [
        "%%writefile matrix_mult.cu\n",
        "#include <iostream>\n",
        "#include <cuda.h>\n",
        "using namespace std;\n",
        "#define BLOCK_SIZE 1\n",
        "__global__ void gpuMM(float *A, float *B, float *C, int N) {\n",
        "int row = blockIdx.y * blockDim.y + threadIdx.y;\n",
        "int col = blockIdx.x * blockDim.x + threadIdx.x;\n",
        "float sum = 0.f;\n",
        "for (int n = 0; n < N; ++n)\n",
        "sum += A[row * N + n] * B[n * N + col];\n",
        "C[row * N + col] = sum;\n",
        "}\n",
        "int main(int argc, char *argv[]) {\n",
        "int N;\n",
        "// Get matrix size from user\n",
        "cout << \"Enter size of matrix (N): \";\n",
        "cin >> N;\n",
        "if (N % BLOCK_SIZE != 0) {\n",
        "cerr << \"Matrix size must be a multiple of BLOCK_SIZE.\" << endl;\n",
        "return 1;\n",
        "}\n",
        "cout << \"\\nExecuting Matrix Multiplication\" << endl;\n",
        "cout << \"Matrix size: \" << N << \"x\" << N << endl;\n",
        "// Allocate memory for matrices on the host\n",
        "float *hA, *hB, *hC;\n",
        "hA = new float[N * N];\n",
        "hB = new float[N * N];\n",
        "hC = new float[N * N];\n",
        "// Read matrices from user\n",
        "cout << \"Enter elements of matrix A (\" << N << \"x\" << N << \"):\" << endl;\n",
        "for (int i = 0; i < N * N; ++i)\n",
        "cin >> hA[i];\n",
        "cout << \"Enter elements of matrix B (\" << N << \"x\" << N << \"):\" << endl;\n",
        "for (int i = 0; i < N * N; ++i)\n",
        "cin >> hB[i];\n",
        "// Allocate memory for matrices on the device\n",
        "int size = N * N * sizeof(float);\n",
        "float *dA, *dB, *dC;\n",
        "cudaMalloc(&dA, size);\n",
        "cudaMalloc(&dB, size);\n",
        "cudaMalloc(&dC, size);\n",
        "// Copy matrices from the host to the device\n",
        "cudaMemcpy(dA, hA, size, cudaMemcpyHostToDevice);\n",
        "cudaMemcpy(dB, hB, size, cudaMemcpyHostToDevice);\n",
        "dim3 threadBlock(BLOCK_SIZE, BLOCK_SIZE);\n",
        "dim3 grid(N / BLOCK_SIZE, N / BLOCK_SIZE);\n",
        "// Execute the matrix multiplication kernel\n",
        "gpuMM<<<grid, threadBlock>>>(dA, dB, dC, N);\n",
        "// Copy the result matrix from the device to the host\n",
        "cudaMemcpy(hC, dC, size, cudaMemcpyDeviceToHost);\n",
        "// Display the result matrix\n",
        "cout << \"\\nResultant matrix:\\n\";\n",
        "for (int row = 0; row < N; row++) {\n",
        "for (int col = 0; col < N; col++) {\n",
        "cout << hC[row * N + col] << \" \";\n",
        "}\n",
        "cout << endl;\n",
        "}\n",
        "// Free device memory\n",
        "cudaFree(dA);\n",
        "cudaFree(dB);\n",
        "cudaFree(dC);\n",
        "// Free host memory\n",
        "delete[] hA;\n",
        "delete[] hB;\n",
        "delete[] hC;\n",
        "cout << \"Finished.\" << endl;\n",
        "return 0;\n",
        "}\n"
      ],
      "metadata": {
        "id": "d6exnrWt2IKF"
      },
      "execution_count": null,
      "outputs": []
    },
    {
      "cell_type": "code",
      "source": [
        "!nvcc matrix_mult.cu -o matrix_mult\n",
        "!./matrix_mult"
      ],
      "metadata": {
        "id": "hsP3gVAM2Jm5"
      },
      "execution_count": null,
      "outputs": []
    }
  ]
}